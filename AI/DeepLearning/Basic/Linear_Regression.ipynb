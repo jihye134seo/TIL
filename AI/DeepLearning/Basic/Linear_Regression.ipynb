{
  "nbformat": 4,
  "nbformat_minor": 0,
  "metadata": {
    "colab": {
      "provenance": [],
      "authorship_tag": "ABX9TyNQgAeHtUrlyhCl2r5PTDej",
      "include_colab_link": true
    },
    "kernelspec": {
      "name": "python3",
      "display_name": "Python 3"
    },
    "language_info": {
      "name": "python"
    }
  },
  "cells": [
    {
      "cell_type": "markdown",
      "metadata": {
        "id": "view-in-github",
        "colab_type": "text"
      },
      "source": [
        "<a href=\"https://colab.research.google.com/github/jihye134seo/TIL/blob/main/AI/DeepLearning/Basic/Linear_Regression.ipynb\" target=\"_parent\"><img src=\"https://colab.research.google.com/assets/colab-badge.svg\" alt=\"Open In Colab\"/></a>"
      ]
    },
    {
      "cell_type": "code",
      "execution_count": null,
      "metadata": {
        "colab": {
          "base_uri": "https://localhost:8080/",
          "height": 288
        },
        "id": "6_WaHXSp9JEj",
        "outputId": "a26564df-8125-42bf-d804-cd2e6d4248ef"
      },
      "outputs": [
        {
          "output_type": "execute_result",
          "data": {
            "text/plain": [
              "[<matplotlib.lines.Line2D at 0x7fe1467390d0>]"
            ]
          },
          "metadata": {},
          "execution_count": 30
        },
        {
          "output_type": "display_data",
          "data": {
            "text/plain": [
              "<Figure size 432x288 with 1 Axes>"
            ],
            "image/png": "[encoded data removed]"
          },
          "metadata": {
            "needs_background": "light"
          }
        }
      ],
      "source": [
        "# 선형 회귀 - 최소 제곱법\n",
        "# 참고자료 : [모두의 딥러닝] p.63~64\n",
        "\n",
        "import numpy as np\n",
        "import matplotlib.pyplot as plt\n",
        "\n",
        "x = [2,4,6,8]\n",
        "y = [81, 93, 91, 97]\n",
        "\n",
        "mx = np.mean(x) #x의 평균\n",
        "my = np.mean(y) #y의 평균\n",
        "\n",
        "\n",
        "a = (sum([(x[i]-mx)*(y[i]-my) for i in range(len(x))]))/(sum([(i-mx)**2 for i in x])) #기울기 a\n",
        "b = my - (mx * a) #기울기 b\n",
        "\n",
        "plt.scatter(x, y)   # 주어진 데이터 표시\n",
        "plt.xlim([0, 10])   #x축 최소값, 최대값 지정\n",
        "plt.ylim([70, 110]) #y축 최소값, 최대값 지정\n",
        "\n",
        "predict = [i * a + b for i in range(0, 11)] #선형 회귀 함수값 계산\n",
        "plt.plot([x for x in range(0, 11)],predict, color='pink') #선형 회귀 함수 표시\n",
        "\n"
      ]
    },
    {
      "cell_type": "code",
      "source": [
        "# 선형 회귀 - 평균 제곱 오차\n",
        "# 참고자료 : [모두의 딥러닝] p.69~73\n",
        "\n",
        "import numpy as np\n",
        "import matplotlib.pyplot as plt\n",
        "\n",
        "temp_a_b = [3, 76] # 평균 제곱 오차를 구하기 위해 임의로 정한 기울기 a와 절편 b\n",
        "\n",
        "data = [[2, 81],[4, 93],[6, 91],[8, 97]]  # 짝으로 묶인 데이터\n",
        "\n",
        "x = [i[0] for i in data]  # 독립변수 x\n",
        "y = [i[1] for i in data]  # 종속변수 y\n"
      ],
      "metadata": {
        "id": "tNnohm8HCmsd"
      },
      "execution_count": 33,
      "outputs": []
    },
    {
      "cell_type": "code",
      "source": [
        "def predict(x): \n",
        "  return temp_a_b[0]*x + temp_a_b[1] # ax + b 구현\n",
        "\n",
        "def mse(y, y_hat):\n",
        "  return ((y-y_hat)**2).mean()  # 평균 제곱 오차 계산\n"
      ],
      "metadata": {
        "id": "rJHVs-UXHXPr"
      },
      "execution_count": 34,
      "outputs": []
    },
    {
      "cell_type": "code",
      "source": [
        "predict_result = []   # 함수 예측 결과 저장\n",
        "\n",
        "for i in range(len(x)):\n",
        "  predict_result.append(predict(x[i]))  # predict 함수로 예측값 계산하기\n",
        "\n",
        "print(mse(np.array(y), predict_result))  # mse 계산하기\n"
      ],
      "metadata": {
        "colab": {
          "base_uri": "https://localhost:8080/"
        },
        "id": "SivaaQ8kH06Y",
        "outputId": "7f85b20b-11cd-44ca-909c-59aa0f3a0483"
      },
      "execution_count": 36,
      "outputs": [
        {
          "output_type": "stream",
          "name": "stdout",
          "text": [
            "11.0\n"
          ]
        }
      ]
    },
    {
      "cell_type": "code",
      "source": [
        "plt.scatter(x, y)   # 주어진 데이터 표시\n",
        "plt.xlim([0, 10])   #x축 최소값, 최대값 지정\n",
        "plt.ylim([70, 110]) #y축 최소값, 최대값 지정\n",
        "\n",
        "plt.plot([2, 4, 6, 8], predict_result, color='pink') #선형 회귀 함수 표시"
      ],
      "metadata": {
        "colab": {
          "base_uri": "https://localhost:8080/",
          "height": 288
        },
        "id": "NFlrpyJNJa7P",
        "outputId": "e215af9b-7e0a-4d35-96ba-c46000d2098a"
      },
      "execution_count": 41,
      "outputs": [
        {
          "output_type": "execute_result",
          "data": {
            "text/plain": [
              "[<matplotlib.lines.Line2D at 0x7fe146225100>]"
            ]
          },
          "metadata": {},
          "execution_count": 41
        },
        {
          "output_type": "display_data",
          "data": {
            "text/plain": [
              "<Figure size 432x288 with 1 Axes>"
            ],
            "image/png": "[encoded data removed]"
          },
          "metadata": {
            "needs_background": "light"
          }
        }
      ]
    }
  ]
}